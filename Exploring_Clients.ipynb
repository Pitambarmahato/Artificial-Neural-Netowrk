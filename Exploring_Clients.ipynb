{
 "cells": [
  {
   "cell_type": "code",
   "execution_count": 7,
   "metadata": {},
   "outputs": [],
   "source": [
    "import numpy as np\n",
    "import pandas as pd\n",
    "import matplotlib.pyplot as plt"
   ]
  },
  {
   "cell_type": "code",
   "execution_count": 8,
   "metadata": {},
   "outputs": [
    {
     "data": {
      "text/html": [
       "<div>\n",
       "<style scoped>\n",
       "    .dataframe tbody tr th:only-of-type {\n",
       "        vertical-align: middle;\n",
       "    }\n",
       "\n",
       "    .dataframe tbody tr th {\n",
       "        vertical-align: top;\n",
       "    }\n",
       "\n",
       "    .dataframe thead th {\n",
       "        text-align: right;\n",
       "    }\n",
       "</style>\n",
       "<table border=\"1\" class=\"dataframe\">\n",
       "  <thead>\n",
       "    <tr style=\"text-align: right;\">\n",
       "      <th></th>\n",
       "      <th>RowNumber</th>\n",
       "      <th>CustomerId</th>\n",
       "      <th>Surname</th>\n",
       "      <th>CreditScore</th>\n",
       "      <th>Geography</th>\n",
       "      <th>Gender</th>\n",
       "      <th>Age</th>\n",
       "      <th>Tenure</th>\n",
       "      <th>Balance</th>\n",
       "      <th>NumOfProducts</th>\n",
       "      <th>HasCrCard</th>\n",
       "      <th>IsActiveMember</th>\n",
       "      <th>EstimatedSalary</th>\n",
       "      <th>Exited</th>\n",
       "    </tr>\n",
       "  </thead>\n",
       "  <tbody>\n",
       "    <tr>\n",
       "      <th>0</th>\n",
       "      <td>1</td>\n",
       "      <td>15634602</td>\n",
       "      <td>Hargrave</td>\n",
       "      <td>619</td>\n",
       "      <td>France</td>\n",
       "      <td>Female</td>\n",
       "      <td>42</td>\n",
       "      <td>2</td>\n",
       "      <td>0.00</td>\n",
       "      <td>1</td>\n",
       "      <td>1</td>\n",
       "      <td>1</td>\n",
       "      <td>101348.88</td>\n",
       "      <td>1</td>\n",
       "    </tr>\n",
       "    <tr>\n",
       "      <th>1</th>\n",
       "      <td>2</td>\n",
       "      <td>15647311</td>\n",
       "      <td>Hill</td>\n",
       "      <td>608</td>\n",
       "      <td>Spain</td>\n",
       "      <td>Female</td>\n",
       "      <td>41</td>\n",
       "      <td>1</td>\n",
       "      <td>83807.86</td>\n",
       "      <td>1</td>\n",
       "      <td>0</td>\n",
       "      <td>1</td>\n",
       "      <td>112542.58</td>\n",
       "      <td>0</td>\n",
       "    </tr>\n",
       "    <tr>\n",
       "      <th>2</th>\n",
       "      <td>3</td>\n",
       "      <td>15619304</td>\n",
       "      <td>Onio</td>\n",
       "      <td>502</td>\n",
       "      <td>France</td>\n",
       "      <td>Female</td>\n",
       "      <td>42</td>\n",
       "      <td>8</td>\n",
       "      <td>159660.80</td>\n",
       "      <td>3</td>\n",
       "      <td>1</td>\n",
       "      <td>0</td>\n",
       "      <td>113931.57</td>\n",
       "      <td>1</td>\n",
       "    </tr>\n",
       "    <tr>\n",
       "      <th>3</th>\n",
       "      <td>4</td>\n",
       "      <td>15701354</td>\n",
       "      <td>Boni</td>\n",
       "      <td>699</td>\n",
       "      <td>France</td>\n",
       "      <td>Female</td>\n",
       "      <td>39</td>\n",
       "      <td>1</td>\n",
       "      <td>0.00</td>\n",
       "      <td>2</td>\n",
       "      <td>0</td>\n",
       "      <td>0</td>\n",
       "      <td>93826.63</td>\n",
       "      <td>0</td>\n",
       "    </tr>\n",
       "    <tr>\n",
       "      <th>4</th>\n",
       "      <td>5</td>\n",
       "      <td>15737888</td>\n",
       "      <td>Mitchell</td>\n",
       "      <td>850</td>\n",
       "      <td>Spain</td>\n",
       "      <td>Female</td>\n",
       "      <td>43</td>\n",
       "      <td>2</td>\n",
       "      <td>125510.82</td>\n",
       "      <td>1</td>\n",
       "      <td>1</td>\n",
       "      <td>1</td>\n",
       "      <td>79084.10</td>\n",
       "      <td>0</td>\n",
       "    </tr>\n",
       "  </tbody>\n",
       "</table>\n",
       "</div>"
      ],
      "text/plain": [
       "   RowNumber  CustomerId   Surname  CreditScore Geography  Gender  Age  \\\n",
       "0          1    15634602  Hargrave          619    France  Female   42   \n",
       "1          2    15647311      Hill          608     Spain  Female   41   \n",
       "2          3    15619304      Onio          502    France  Female   42   \n",
       "3          4    15701354      Boni          699    France  Female   39   \n",
       "4          5    15737888  Mitchell          850     Spain  Female   43   \n",
       "\n",
       "   Tenure    Balance  NumOfProducts  HasCrCard  IsActiveMember  \\\n",
       "0       2       0.00              1          1               1   \n",
       "1       1   83807.86              1          0               1   \n",
       "2       8  159660.80              3          1               0   \n",
       "3       1       0.00              2          0               0   \n",
       "4       2  125510.82              1          1               1   \n",
       "\n",
       "   EstimatedSalary  Exited  \n",
       "0        101348.88       1  \n",
       "1        112542.58       0  \n",
       "2        113931.57       1  \n",
       "3         93826.63       0  \n",
       "4         79084.10       0  "
      ]
     },
     "execution_count": 8,
     "metadata": {},
     "output_type": "execute_result"
    }
   ],
   "source": [
    "df = pd.read_csv('Churn_Modelling.csv')\n",
    "df.head()"
   ]
  },
  {
   "cell_type": "code",
   "execution_count": 9,
   "metadata": {},
   "outputs": [
    {
     "data": {
      "text/plain": [
       "(10000, 14)"
      ]
     },
     "execution_count": 9,
     "metadata": {},
     "output_type": "execute_result"
    }
   ],
   "source": [
    "df.shape"
   ]
  },
  {
   "cell_type": "code",
   "execution_count": 10,
   "metadata": {},
   "outputs": [],
   "source": [
    "X = df.iloc[:, 3:13].values\n",
    "y = df.iloc[:, 13].values"
   ]
  },
  {
   "cell_type": "code",
   "execution_count": 15,
   "metadata": {},
   "outputs": [
    {
     "data": {
      "text/plain": [
       "(10000, 11)"
      ]
     },
     "execution_count": 15,
     "metadata": {},
     "output_type": "execute_result"
    }
   ],
   "source": [
    "X.shape"
   ]
  },
  {
   "cell_type": "code",
   "execution_count": 11,
   "metadata": {},
   "outputs": [
    {
     "name": "stderr",
     "output_type": "stream",
     "text": [
      "C:\\Users\\pitam\\Anaconda3\\lib\\site-packages\\sklearn\\preprocessing\\_encoders.py:371: FutureWarning: The handling of integer data will change in version 0.22. Currently, the categories are determined based on the range [0, max(values)], while in the future they will be determined based on the unique values.\n",
      "If you want the future behaviour and silence this warning, you can specify \"categories='auto'\".\n",
      "In case you used a LabelEncoder before this OneHotEncoder to convert the categories to integers, then you can now use the OneHotEncoder directly.\n",
      "  warnings.warn(msg, FutureWarning)\n",
      "C:\\Users\\pitam\\Anaconda3\\lib\\site-packages\\sklearn\\preprocessing\\_encoders.py:392: DeprecationWarning: The 'categorical_features' keyword is deprecated in version 0.20 and will be removed in 0.22. You can use the ColumnTransformer instead.\n",
      "  \"use the ColumnTransformer instead.\", DeprecationWarning)\n"
     ]
    }
   ],
   "source": [
    "from sklearn.preprocessing import LabelEncoder, OneHotEncoder\n",
    "labelencoder_x_1 = LabelEncoder() \n",
    "X[:, 1] = labelencoder_x_1.fit_transform(X[:, 1])\n",
    "labelencoder_x_2 = LabelEncoder()\n",
    "X[:, 2] = labelencoder_x_2.fit_transform(X[:, 2])\n",
    "onehotencoder = OneHotEncoder(categorical_features=[1])\n",
    "X = onehotencoder.fit_transform(X).toarray()\n",
    "X = X[:, 1:]"
   ]
  },
  {
   "cell_type": "code",
   "execution_count": 14,
   "metadata": {},
   "outputs": [
    {
     "data": {
      "text/plain": [
       "(10000, 11)"
      ]
     },
     "execution_count": 14,
     "metadata": {},
     "output_type": "execute_result"
    }
   ],
   "source": [
    "X.shape"
   ]
  },
  {
   "cell_type": "code",
   "execution_count": 16,
   "metadata": {},
   "outputs": [
    {
     "data": {
      "text/plain": [
       "array([[0.0000000e+00, 0.0000000e+00, 6.1900000e+02, ..., 1.0000000e+00,\n",
       "        1.0000000e+00, 1.0134888e+05],\n",
       "       [0.0000000e+00, 1.0000000e+00, 6.0800000e+02, ..., 0.0000000e+00,\n",
       "        1.0000000e+00, 1.1254258e+05],\n",
       "       [0.0000000e+00, 0.0000000e+00, 5.0200000e+02, ..., 1.0000000e+00,\n",
       "        0.0000000e+00, 1.1393157e+05],\n",
       "       ...,\n",
       "       [0.0000000e+00, 0.0000000e+00, 7.0900000e+02, ..., 0.0000000e+00,\n",
       "        1.0000000e+00, 4.2085580e+04],\n",
       "       [1.0000000e+00, 0.0000000e+00, 7.7200000e+02, ..., 1.0000000e+00,\n",
       "        0.0000000e+00, 9.2888520e+04],\n",
       "       [0.0000000e+00, 0.0000000e+00, 7.9200000e+02, ..., 1.0000000e+00,\n",
       "        0.0000000e+00, 3.8190780e+04]])"
      ]
     },
     "execution_count": 16,
     "metadata": {},
     "output_type": "execute_result"
    }
   ],
   "source": [
    "X"
   ]
  },
  {
   "cell_type": "code",
   "execution_count": 17,
   "metadata": {},
   "outputs": [
    {
     "data": {
      "text/plain": [
       "0.0"
      ]
     },
     "execution_count": 17,
     "metadata": {},
     "output_type": "execute_result"
    }
   ],
   "source": [
    "X[0,1]"
   ]
  },
  {
   "cell_type": "code",
   "execution_count": 18,
   "metadata": {},
   "outputs": [
    {
     "data": {
      "text/plain": [
       "619.0"
      ]
     },
     "execution_count": 18,
     "metadata": {},
     "output_type": "execute_result"
    }
   ],
   "source": [
    "X[0,2]"
   ]
  },
  {
   "cell_type": "code",
   "execution_count": 20,
   "metadata": {},
   "outputs": [],
   "source": [
    "from sklearn.model_selection import train_test_split\n",
    "X_train, X_test, y_train, y_test = train_test_split(X, y, test_size = 0.33, random_state = 0)"
   ]
  },
  {
   "cell_type": "code",
   "execution_count": 23,
   "metadata": {},
   "outputs": [],
   "source": [
    "from sklearn.preprocessing import StandardScaler\n",
    "standardscalar_x = StandardScaler()\n",
    "X_train = standardscalar_x.fit_transform(X_train)\n",
    "X_test = standardscalar_x.transform(X_test)"
   ]
  },
  {
   "cell_type": "code",
   "execution_count": 24,
   "metadata": {
    "collapsed": true
   },
   "outputs": [
    {
     "data": {
      "text/plain": [
       "array([[-0.56953701, -0.57436296, -1.78451879, ..., -1.56299709,\n",
       "        -1.03339307,  1.0890591 ],\n",
       "       [-0.56953701, -0.57436296,  1.47401668, ...,  0.63979645,\n",
       "         0.967686  , -0.4551902 ],\n",
       "       [-0.56953701, -0.57436296, -0.82854466, ..., -1.56299709,\n",
       "         0.967686  , -0.65446947],\n",
       "       ...,\n",
       "       [-0.56953701, -0.57436296,  0.89837634, ...,  0.63979645,\n",
       "        -1.03339307,  1.40745917],\n",
       "       [-0.56953701,  1.74105933, -0.62295883, ...,  0.63979645,\n",
       "         0.967686  ,  0.83939459],\n",
       "       [ 1.75581215, -0.57436296, -0.2837422 , ...,  0.63979645,\n",
       "        -1.03339307,  0.31973777]])"
      ]
     },
     "execution_count": 24,
     "metadata": {},
     "output_type": "execute_result"
    }
   ],
   "source": [
    "X_train"
   ]
  },
  {
   "cell_type": "code",
   "execution_count": 25,
   "metadata": {},
   "outputs": [],
   "source": [
    "from tensorflow.keras.models import Sequential\n",
    "from tensorflow.keras.layers import Dense\n",
    "model = Sequential()"
   ]
  },
  {
   "cell_type": "code",
   "execution_count": 60,
   "metadata": {},
   "outputs": [],
   "source": [
    "model.add(Dense(6, input_dim = 11, activation = 'relu'))\n",
    "model.add(Dense(6, activation = 'relu'))\n",
    "model.add(Dense(1, activation = \"sigmoid\"))"
   ]
  },
  {
   "cell_type": "code",
   "execution_count": 61,
   "metadata": {},
   "outputs": [],
   "source": [
    "model.compile('sgd', 'mse', metrics = ['accuracy', 'mae'])"
   ]
  },
  {
   "cell_type": "code",
   "execution_count": 62,
   "metadata": {},
   "outputs": [
    {
     "name": "stdout",
     "output_type": "stream",
     "text": [
      "Epoch 1/100\n",
      "6700/6700 [==============================] - 1s 174us/sample - loss: 0.2008 - acc: 0.7979 - mean_absolute_error: 0.4361\n",
      "Epoch 2/100\n",
      "6700/6700 [==============================] - 1s 159us/sample - loss: 0.1690 - acc: 0.7979 - mean_absolute_error: 0.3695\n",
      "Epoch 3/100\n",
      "6700/6700 [==============================] - 1s 165us/sample - loss: 0.1640 - acc: 0.7979 - mean_absolute_error: 0.3444\n",
      "Epoch 4/100\n",
      "6700/6700 [==============================] - 1s 158us/sample - loss: 0.1628 - acc: 0.7979 - mean_absolute_error: 0.3347\n",
      "Epoch 5/100\n",
      "6700/6700 [==============================] - 1s 158us/sample - loss: 0.1623 - acc: 0.7979 - mean_absolute_error: 0.3295\n",
      "Epoch 6/100\n",
      "6700/6700 [==============================] - 1s 149us/sample - loss: 0.1621 - acc: 0.7979 - mean_absolute_error: 0.3260\n",
      "Epoch 7/100\n",
      "6700/6700 [==============================] - 1s 150us/sample - loss: 0.1619 - acc: 0.7979 - mean_absolute_error: 0.3255\n",
      "Epoch 8/100\n",
      "6700/6700 [==============================] - 1s 151us/sample - loss: 0.1618 - acc: 0.7979 - mean_absolute_error: 0.3226\n",
      "Epoch 9/100\n",
      "6700/6700 [==============================] - 1s 151us/sample - loss: 0.1617 - acc: 0.7979 - mean_absolute_error: 0.3238\n",
      "Epoch 10/100\n",
      "6700/6700 [==============================] - 1s 151us/sample - loss: 0.1616 - acc: 0.7979 - mean_absolute_error: 0.3240\n",
      "Epoch 11/100\n",
      "6700/6700 [==============================] - 1s 201us/sample - loss: 0.1615 - acc: 0.7979 - mean_absolute_error: 0.3236\n",
      "Epoch 12/100\n",
      "6700/6700 [==============================] - 1s 210us/sample - loss: 0.1614 - acc: 0.7979 - mean_absolute_error: 0.3225\n",
      "Epoch 13/100\n",
      "6700/6700 [==============================] - 1s 182us/sample - loss: 0.1613 - acc: 0.7979 - mean_absolute_error: 0.3231\n",
      "Epoch 14/100\n",
      "6700/6700 [==============================] - 1s 196us/sample - loss: 0.1613 - acc: 0.7979 - mean_absolute_error: 0.3233\n",
      "Epoch 15/100\n",
      "6700/6700 [==============================] - 1s 168us/sample - loss: 0.1612 - acc: 0.7979 - mean_absolute_error: 0.3222\n",
      "Epoch 16/100\n",
      "6700/6700 [==============================] - 1s 201us/sample - loss: 0.1611 - acc: 0.7979 - mean_absolute_error: 0.3220\n",
      "Epoch 17/100\n",
      "6700/6700 [==============================] - 1s 167us/sample - loss: 0.1611 - acc: 0.7979 - mean_absolute_error: 0.3228\n",
      "Epoch 18/100\n",
      "6700/6700 [==============================] - 1s 179us/sample - loss: 0.1610 - acc: 0.7979 - mean_absolute_error: 0.3221\n",
      "Epoch 19/100\n",
      "6700/6700 [==============================] - 1s 163us/sample - loss: 0.1609 - acc: 0.7979 - mean_absolute_error: 0.3223\n",
      "Epoch 20/100\n",
      "6700/6700 [==============================] - 1s 169us/sample - loss: 0.1608 - acc: 0.7979 - mean_absolute_error: 0.3212\n",
      "Epoch 21/100\n",
      "6700/6700 [==============================] - 1s 178us/sample - loss: 0.1607 - acc: 0.7979 - mean_absolute_error: 0.3231\n",
      "Epoch 22/100\n",
      "6700/6700 [==============================] - 1s 161us/sample - loss: 0.1605 - acc: 0.7979 - mean_absolute_error: 0.3221\n",
      "Epoch 23/100\n",
      "6700/6700 [==============================] - 1s 151us/sample - loss: 0.1604 - acc: 0.7979 - mean_absolute_error: 0.3207\n",
      "Epoch 24/100\n",
      "6700/6700 [==============================] - 1s 152us/sample - loss: 0.1602 - acc: 0.7979 - mean_absolute_error: 0.3218\n",
      "Epoch 25/100\n",
      "6700/6700 [==============================] - 1s 165us/sample - loss: 0.1600 - acc: 0.7979 - mean_absolute_error: 0.3208\n",
      "Epoch 26/100\n",
      "6700/6700 [==============================] - 1s 163us/sample - loss: 0.1597 - acc: 0.7979 - mean_absolute_error: 0.3205\n",
      "Epoch 27/100\n",
      "6700/6700 [==============================] - 1s 152us/sample - loss: 0.1594 - acc: 0.7979 - mean_absolute_error: 0.3203\n",
      "Epoch 28/100\n",
      "6700/6700 [==============================] - 1s 152us/sample - loss: 0.1591 - acc: 0.7979 - mean_absolute_error: 0.3194\n",
      "Epoch 29/100\n",
      "6700/6700 [==============================] - 1s 154us/sample - loss: 0.1587 - acc: 0.7979 - mean_absolute_error: 0.3189\n",
      "Epoch 30/100\n",
      "6700/6700 [==============================] - 1s 152us/sample - loss: 0.1581 - acc: 0.7979 - mean_absolute_error: 0.3193\n",
      "Epoch 31/100\n",
      "6700/6700 [==============================] - 1s 179us/sample - loss: 0.1575 - acc: 0.7979 - mean_absolute_error: 0.3176\n",
      "Epoch 32/100\n",
      "6700/6700 [==============================] - 1s 176us/sample - loss: 0.1566 - acc: 0.7979 - mean_absolute_error: 0.3166\n",
      "Epoch 33/100\n",
      "6700/6700 [==============================] - 1s 152us/sample - loss: 0.1556 - acc: 0.7979 - mean_absolute_error: 0.3150\n",
      "Epoch 34/100\n",
      "6700/6700 [==============================] - 1s 163us/sample - loss: 0.1542 - acc: 0.7979 - mean_absolute_error: 0.3145\n",
      "Epoch 35/100\n",
      "6700/6700 [==============================] - 1s 152us/sample - loss: 0.1525 - acc: 0.7979 - mean_absolute_error: 0.3125\n",
      "Epoch 36/100\n",
      "6700/6700 [==============================] - 1s 151us/sample - loss: 0.1502 - acc: 0.7979 - mean_absolute_error: 0.3097\n",
      "Epoch 37/100\n",
      "6700/6700 [==============================] - 1s 156us/sample - loss: 0.1473 - acc: 0.7979 - mean_absolute_error: 0.3060\n",
      "Epoch 38/100\n",
      "6700/6700 [==============================] - 1s 151us/sample - loss: 0.1435 - acc: 0.7979 - mean_absolute_error: 0.3018\n",
      "Epoch 39/100\n",
      "6700/6700 [==============================] - 1s 156us/sample - loss: 0.1388 - acc: 0.7979 - mean_absolute_error: 0.2966\n",
      "Epoch 40/100\n",
      "6700/6700 [==============================] - 1s 153us/sample - loss: 0.1332 - acc: 0.7979 - mean_absolute_error: 0.2904\n",
      "Epoch 41/100\n",
      "6700/6700 [==============================] - 1s 152us/sample - loss: 0.1280 - acc: 0.7979 - mean_absolute_error: 0.2775\n",
      "Epoch 42/100\n",
      "6700/6700 [==============================] - 1s 153us/sample - loss: 0.1237 - acc: 0.7979 - mean_absolute_error: 0.2687\n",
      "Epoch 43/100\n",
      "6700/6700 [==============================] - 1s 152us/sample - loss: 0.1206 - acc: 0.7979 - mean_absolute_error: 0.2591\n",
      "Epoch 44/100\n",
      "6700/6700 [==============================] - 1s 151us/sample - loss: 0.1179 - acc: 0.7979 - mean_absolute_error: 0.2527\n",
      "Epoch 45/100\n",
      "6700/6700 [==============================] - 1s 156us/sample - loss: 0.1157 - acc: 0.7979 - mean_absolute_error: 0.2477\n",
      "Epoch 46/100\n",
      "6700/6700 [==============================] - 1s 152us/sample - loss: 0.1138 - acc: 0.8606 - mean_absolute_error: 0.2432\n",
      "Epoch 47/100\n",
      "6700/6700 [==============================] - 1s 152us/sample - loss: 0.1123 - acc: 0.8691 - mean_absolute_error: 0.2393\n",
      "Epoch 48/100\n",
      "6700/6700 [==============================] - 1s 155us/sample - loss: 0.1109 - acc: 0.8684 - mean_absolute_error: 0.2357\n",
      "Epoch 49/100\n",
      "6700/6700 [==============================] - ETA: 0s - loss: 0.1102 - acc: 0.8673 - mean_absolute_error: 0.233 - 1s 157us/sample - loss: 0.1099 - acc: 0.8675 - mean_absolute_error: 0.2336\n",
      "Epoch 50/100\n",
      "6700/6700 [==============================] - 1s 154us/sample - loss: 0.1089 - acc: 0.8699 - mean_absolute_error: 0.2319\n",
      "Epoch 51/100\n",
      "6700/6700 [==============================] - 1s 152us/sample - loss: 0.1081 - acc: 0.8676 - mean_absolute_error: 0.2294\n",
      "Epoch 52/100\n",
      "6700/6700 [==============================] - 1s 152us/sample - loss: 0.1077 - acc: 0.8672 - mean_absolute_error: 0.2277\n",
      "Epoch 53/100\n",
      "6700/6700 [==============================] - 1s 152us/sample - loss: 0.1071 - acc: 0.8678 - mean_absolute_error: 0.2267\n",
      "Epoch 54/100\n",
      "6700/6700 [==============================] - 1s 157us/sample - loss: 0.1067 - acc: 0.8664 - mean_absolute_error: 0.2252\n",
      "Epoch 55/100\n",
      "6700/6700 [==============================] - 1s 155us/sample - loss: 0.1061 - acc: 0.8675 - mean_absolute_error: 0.2249\n",
      "Epoch 56/100\n",
      "6700/6700 [==============================] - 1s 152us/sample - loss: 0.1057 - acc: 0.8673 - mean_absolute_error: 0.2226\n",
      "Epoch 57/100\n",
      "6700/6700 [==============================] - 1s 151us/sample - loss: 0.1054 - acc: 0.8673 - mean_absolute_error: 0.2221\n",
      "Epoch 58/100\n",
      "6700/6700 [==============================] - 1s 153us/sample - loss: 0.1052 - acc: 0.8687 - mean_absolute_error: 0.2212\n",
      "Epoch 59/100\n",
      "6700/6700 [==============================] - 1s 153us/sample - loss: 0.1048 - acc: 0.8679 - mean_absolute_error: 0.2209\n",
      "Epoch 60/100\n",
      "6700/6700 [==============================] - 1s 153us/sample - loss: 0.1047 - acc: 0.8667 - mean_absolute_error: 0.2201\n",
      "Epoch 61/100\n",
      "6700/6700 [==============================] - 1s 151us/sample - loss: 0.1045 - acc: 0.8682 - mean_absolute_error: 0.2179\n",
      "Epoch 62/100\n"
     ]
    },
    {
     "name": "stdout",
     "output_type": "stream",
     "text": [
      "6700/6700 [==============================] - 1s 148us/sample - loss: 0.1043 - acc: 0.8675 - mean_absolute_error: 0.2178\n",
      "Epoch 63/100\n",
      "6700/6700 [==============================] - 1s 149us/sample - loss: 0.1042 - acc: 0.8678 - mean_absolute_error: 0.2186\n",
      "Epoch 64/100\n",
      "6700/6700 [==============================] - 1s 149us/sample - loss: 0.1040 - acc: 0.8678 - mean_absolute_error: 0.2175\n",
      "Epoch 65/100\n",
      "6700/6700 [==============================] - 1s 148us/sample - loss: 0.1038 - acc: 0.8681 - mean_absolute_error: 0.2185\n",
      "Epoch 66/100\n",
      "6700/6700 [==============================] - 1s 149us/sample - loss: 0.1038 - acc: 0.8673 - mean_absolute_error: 0.2164\n",
      "Epoch 67/100\n",
      "6700/6700 [==============================] - 1s 149us/sample - loss: 0.1036 - acc: 0.8678 - mean_absolute_error: 0.2151\n",
      "Epoch 68/100\n",
      "6700/6700 [==============================] - 1s 150us/sample - loss: 0.1036 - acc: 0.8696 - mean_absolute_error: 0.2164\n",
      "Epoch 69/100\n",
      "6700/6700 [==============================] - 1s 149us/sample - loss: 0.1036 - acc: 0.8688 - mean_absolute_error: 0.2161\n",
      "Epoch 70/100\n",
      "6700/6700 [==============================] - 1s 149us/sample - loss: 0.1034 - acc: 0.8697 - mean_absolute_error: 0.2158\n",
      "Epoch 71/100\n",
      "6700/6700 [==============================] - 1s 151us/sample - loss: 0.1033 - acc: 0.8688 - mean_absolute_error: 0.2146\n",
      "Epoch 72/100\n",
      "6700/6700 [==============================] - 1s 150us/sample - loss: 0.1032 - acc: 0.8694 - mean_absolute_error: 0.2144\n",
      "Epoch 73/100\n",
      "6700/6700 [==============================] - 1s 149us/sample - loss: 0.1034 - acc: 0.8664 - mean_absolute_error: 0.2158\n",
      "Epoch 74/100\n",
      "6700/6700 [==============================] - 1s 149us/sample - loss: 0.1032 - acc: 0.8699 - mean_absolute_error: 0.2148\n",
      "Epoch 75/100\n",
      "6700/6700 [==============================] - 1s 149us/sample - loss: 0.1032 - acc: 0.8682 - mean_absolute_error: 0.2144\n",
      "Epoch 76/100\n",
      "6700/6700 [==============================] - 1s 149us/sample - loss: 0.1030 - acc: 0.8679 - mean_absolute_error: 0.2136\n",
      "Epoch 77/100\n",
      "6700/6700 [==============================] - 1s 150us/sample - loss: 0.1031 - acc: 0.8694 - mean_absolute_error: 0.2140\n",
      "Epoch 78/100\n",
      "6700/6700 [==============================] - 1s 150us/sample - loss: 0.1030 - acc: 0.8669 - mean_absolute_error: 0.2124\n",
      "Epoch 79/100\n",
      "6700/6700 [==============================] - 1s 151us/sample - loss: 0.1030 - acc: 0.8658 - mean_absolute_error: 0.2142\n",
      "Epoch 80/100\n",
      "6700/6700 [==============================] - 1s 151us/sample - loss: 0.1027 - acc: 0.8679 - mean_absolute_error: 0.2131\n",
      "Epoch 81/100\n",
      "6700/6700 [==============================] - 1s 150us/sample - loss: 0.1027 - acc: 0.8682 - mean_absolute_error: 0.2128\n",
      "Epoch 82/100\n",
      "6700/6700 [==============================] - 1s 149us/sample - loss: 0.1028 - acc: 0.8678 - mean_absolute_error: 0.2141\n",
      "Epoch 83/100\n",
      "6700/6700 [==============================] - 1s 151us/sample - loss: 0.1028 - acc: 0.8673 - mean_absolute_error: 0.2125\n",
      "Epoch 84/100\n",
      "6700/6700 [==============================] - 1s 148us/sample - loss: 0.1025 - acc: 0.8687 - mean_absolute_error: 0.2124\n",
      "Epoch 85/100\n",
      "6700/6700 [==============================] - 1s 147us/sample - loss: 0.1027 - acc: 0.8707 - mean_absolute_error: 0.2122\n",
      "Epoch 86/100\n",
      "6700/6700 [==============================] - 1s 150us/sample - loss: 0.1027 - acc: 0.8670 - mean_absolute_error: 0.2123\n",
      "Epoch 87/100\n",
      "6700/6700 [==============================] - 1s 151us/sample - loss: 0.1025 - acc: 0.8691 - mean_absolute_error: 0.2122\n",
      "Epoch 88/100\n",
      "6700/6700 [==============================] - 1s 150us/sample - loss: 0.1025 - acc: 0.8681 - mean_absolute_error: 0.2122\n",
      "Epoch 89/100\n",
      "6700/6700 [==============================] - 1s 153us/sample - loss: 0.1024 - acc: 0.8693 - mean_absolute_error: 0.2119\n",
      "Epoch 90/100\n",
      "6700/6700 [==============================] - 1s 150us/sample - loss: 0.1024 - acc: 0.8690 - mean_absolute_error: 0.2114\n",
      "Epoch 91/100\n",
      "6700/6700 [==============================] - 1s 153us/sample - loss: 0.1022 - acc: 0.8688 - mean_absolute_error: 0.2113\n",
      "Epoch 92/100\n",
      "6700/6700 [==============================] - 1s 151us/sample - loss: 0.1025 - acc: 0.8679 - mean_absolute_error: 0.2116\n",
      "Epoch 93/100\n",
      "6700/6700 [==============================] - 1s 150us/sample - loss: 0.1022 - acc: 0.8701 - mean_absolute_error: 0.2117\n",
      "Epoch 94/100\n",
      "6700/6700 [==============================] - 1s 151us/sample - loss: 0.1023 - acc: 0.8676 - mean_absolute_error: 0.2107\n",
      "Epoch 95/100\n",
      "6700/6700 [==============================] - 1s 148us/sample - loss: 0.1023 - acc: 0.8691 - mean_absolute_error: 0.2105\n",
      "Epoch 96/100\n",
      "6700/6700 [==============================] - 1s 151us/sample - loss: 0.1023 - acc: 0.8675 - mean_absolute_error: 0.2114\n",
      "Epoch 97/100\n",
      "6700/6700 [==============================] - 1s 153us/sample - loss: 0.1022 - acc: 0.8709 - mean_absolute_error: 0.2105\n",
      "Epoch 98/100\n",
      "6700/6700 [==============================] - 1s 150us/sample - loss: 0.1022 - acc: 0.8687 - mean_absolute_error: 0.2101\n",
      "Epoch 99/100\n",
      "6700/6700 [==============================] - 2s 228us/sample - loss: 0.1021 - acc: 0.8693 - mean_absolute_error: 0.2103\n",
      "Epoch 100/100\n",
      "6700/6700 [==============================] - 2s 320us/sample - loss: 0.1021 - acc: 0.8693 - mean_absolute_error: 0.2100\n"
     ]
    }
   ],
   "source": [
    "history = model.fit(X_train, y_train, epochs = 100, batch_size = 10)"
   ]
  },
  {
   "cell_type": "code",
   "execution_count": 63,
   "metadata": {},
   "outputs": [
    {
     "data": {
      "text/plain": [
       "dict_keys(['loss', 'acc', 'mean_absolute_error'])"
      ]
     },
     "execution_count": 63,
     "metadata": {},
     "output_type": "execute_result"
    }
   ],
   "source": [
    "history.history.keys()"
   ]
  },
  {
   "cell_type": "code",
   "execution_count": 64,
   "metadata": {},
   "outputs": [],
   "source": [
    "y_pred = model.predict(X_test)"
   ]
  },
  {
   "cell_type": "code",
   "execution_count": 72,
   "metadata": {},
   "outputs": [
    {
     "name": "stdout",
     "output_type": "stream",
     "text": [
      "3300/3300 [==============================] - 0s 37us/sample - loss: 0.1061 - acc: 0.8576 - mean_absolute_error: 0.2154\n"
     ]
    },
    {
     "data": {
      "text/plain": [
       "[0.10611402608680003, 0.8575758, 0.21541867]"
      ]
     },
     "execution_count": 72,
     "metadata": {},
     "output_type": "execute_result"
    }
   ],
   "source": [
    "model.evaluate(X_test, y_test)"
   ]
  },
  {
   "cell_type": "code",
   "execution_count": 65,
   "metadata": {},
   "outputs": [],
   "source": [
    "ypred = y_pred>0.5"
   ]
  },
  {
   "cell_type": "code",
   "execution_count": 66,
   "metadata": {},
   "outputs": [
    {
     "data": {
      "text/plain": [
       "array([[False],\n",
       "       [False],\n",
       "       [False],\n",
       "       ...,\n",
       "       [False],\n",
       "       [ True],\n",
       "       [False]])"
      ]
     },
     "execution_count": 66,
     "metadata": {},
     "output_type": "execute_result"
    }
   ],
   "source": [
    "ypred"
   ]
  },
  {
   "cell_type": "code",
   "execution_count": 67,
   "metadata": {},
   "outputs": [
    {
     "name": "stdout",
     "output_type": "stream",
     "text": [
      "[[2477  140]\n",
      " [ 330  353]]\n",
      "85.75757575757575 %\n"
     ]
    }
   ],
   "source": [
    "from sklearn.metrics import confusion_matrix, accuracy_score\n",
    "print(confusion_matrix(y_test, ypred))\n",
    "print(accuracy_score(y_test, ypred)*100,'%')"
   ]
  },
  {
   "cell_type": "code",
   "execution_count": 68,
   "metadata": {},
   "outputs": [
    {
     "data": {
      "text/plain": [
       "array([0, 1, 0, ..., 0, 1, 0], dtype=int64)"
      ]
     },
     "execution_count": 68,
     "metadata": {},
     "output_type": "execute_result"
    }
   ],
   "source": [
    "y_test"
   ]
  },
  {
   "cell_type": "code",
   "execution_count": 69,
   "metadata": {},
   "outputs": [
    {
     "data": {
      "image/png": "[encoded data removed]",
      "text/plain": [
       "<Figure size 432x288 with 1 Axes>"
      ]
     },
     "metadata": {
      "needs_background": "light"
     },
     "output_type": "display_data"
    }
   ],
   "source": [
    "plt.plot(history.history['acc'])\n",
    "plt.plot(history.history['loss'])\n",
    "plt.plot(history.history['mean_absolute_error'])\n",
    "plt.legend(['accuracy', 'loss', 'mae'])\n",
    "plt.show()"
   ]
  },
  {
   "cell_type": "markdown",
   "metadata": {},
   "source": [
    "# Model Saving\n"
   ]
  },
  {
   "cell_type": "code",
   "execution_count": 76,
   "metadata": {},
   "outputs": [],
   "source": [
    "model_json = model.to_json()\n",
    "with open('clients.json', 'w') as json_file:\n",
    "    json_file.write(model_json)\n",
    "    \n",
    "model.save_weights('clients.h5')\n",
    "    "
   ]
  },
  {
   "cell_type": "code",
   "execution_count": 78,
   "metadata": {
    "collapsed": true
   },
   "outputs": [
    {
     "name": "stdout",
     "output_type": "stream",
     "text": [
      "Model: \"sequential\"\n",
      "_________________________________________________________________\n",
      "Layer (type)                 Output Shape              Param #   \n",
      "=================================================================\n",
      "dense (Dense)                (None, 6)                 72        \n",
      "_________________________________________________________________\n",
      "dense_1 (Dense)              (None, 1)                 7         \n",
      "_________________________________________________________________\n",
      "dense_2 (Dense)              (None, 6)                 12        \n",
      "_________________________________________________________________\n",
      "dense_4 (Dense)              (None, 6)                 42        \n",
      "_________________________________________________________________\n",
      "dense_6 (Dense)              (None, 6)                 42        \n",
      "_________________________________________________________________\n",
      "dense_7 (Dense)              (None, 1)                 7         \n",
      "_________________________________________________________________\n",
      "dense_8 (Dense)              (None, 6)                 12        \n",
      "_________________________________________________________________\n",
      "dense_9 (Dense)              (None, 6)                 42        \n",
      "_________________________________________________________________\n",
      "dense_10 (Dense)             (None, 1)                 7         \n",
      "=================================================================\n",
      "Total params: 243\n",
      "Trainable params: 243\n",
      "Non-trainable params: 0\n",
      "_________________________________________________________________\n"
     ]
    }
   ],
   "source": [
    "from tensorflow.keras.models import model_from_json, load_model\n",
    "with open('clients.json', 'r') as f:\n",
    "    model_loaded = model_from_json(f.read())\n",
    "model_loaded.load_weights('clients.h5')\n",
    "model_loaded.summary()"
   ]
  },
  {
   "cell_type": "code",
   "execution_count": 80,
   "metadata": {},
   "outputs": [],
   "source": [
    "y_predict = model_loaded.predict(X_test)"
   ]
  },
  {
   "cell_type": "code",
   "execution_count": 81,
   "metadata": {},
   "outputs": [],
   "source": [
    "model_loaded.compile('sgd', 'mse', metrics = ['accuracy'])"
   ]
  },
  {
   "cell_type": "code",
   "execution_count": 82,
   "metadata": {},
   "outputs": [
    {
     "name": "stdout",
     "output_type": "stream",
     "text": [
      "3300/3300 [==============================] - 0s 46us/sample - loss: 0.1061 - acc: 0.8576\n"
     ]
    },
    {
     "data": {
      "text/plain": [
       "[0.10611402608680003, 0.8575758]"
      ]
     },
     "execution_count": 82,
     "metadata": {},
     "output_type": "execute_result"
    }
   ],
   "source": [
    "model_loaded.evaluate(X_test, y_test)"
   ]
  },
  {
   "cell_type": "code",
   "execution_count": null,
   "metadata": {},
   "outputs": [],
   "source": []
  }
 ],
 "metadata": {
  "kernelspec": {
   "display_name": "Python 3",
   "language": "python",
   "name": "python3"
  },
  "language_info": {
   "codemirror_mode": {
    "name": "ipython",
    "version": 3
   },
   "file_extension": ".py",
   "mimetype": "text/x-python",
   "name": "python",
   "nbconvert_exporter": "python",
   "pygments_lexer": "ipython3",
   "version": "3.7.3"
  }
 },
 "nbformat": 4,
 "nbformat_minor": 2
}
